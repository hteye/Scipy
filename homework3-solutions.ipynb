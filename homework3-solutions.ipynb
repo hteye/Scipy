{
 "cells": [
  {
   "cell_type": "markdown",
   "metadata": {
    "id": "s26AyhYpWDq5"
   },
   "source": [
    "## The Uniform Distribution"
   ]
  },
  {
   "cell_type": "markdown",
   "metadata": {
    "id": "zpBI2awMW6Oc"
   },
   "source": [
    "Load libraries. We use the scipy.stats library."
   ]
  },
  {
   "cell_type": "code",
   "execution_count": 1,
   "metadata": {
    "id": "grtbaBqpWDq6"
   },
   "outputs": [],
   "source": [
    "import pandas as pd\n",
    "import matplotlib.pyplot as plt\n",
    "import seaborn as sns\n",
    "import matplotlib\n",
    "from scipy import stats"
   ]
  },
  {
   "cell_type": "markdown",
   "metadata": {
    "id": "oByCe-f4WabL"
   },
   "source": [
    "Use scipy library to create a randam uniform distribution data (100000 numbers from 0 to 10)"
   ]
  },
  {
   "cell_type": "code",
   "execution_count": 2,
   "metadata": {
    "id": "bZDkJE3EWDq8"
   },
   "outputs": [],
   "source": [
    "data = stats.uniform.rvs(0, 10, 100_000)"
   ]
  },
  {
   "cell_type": "markdown",
   "metadata": {
    "id": "VDFCdnvxXKBO"
   },
   "source": [
    "Plot the following density distribution.\n",
    "You can use figsize=(9,9), xlim=(-1,11)"
   ]
  },
  {
   "cell_type": "code",
   "execution_count": 3,
   "metadata": {
    "colab": {
     "base_uri": "https://localhost:8080/",
     "height": 537
    },
    "executionInfo": {
     "elapsed": 6133,
     "status": "ok",
     "timestamp": 1643988578835,
     "user": {
      "displayName": "Xiaoli Huan",
      "photoUrl": "https://lh3.googleusercontent.com/a/default-user=s64",
      "userId": "12700089891795799701"
     },
     "user_tz": 360
    },
    "id": "sv6O_1QTWDq8",
    "outputId": "5dca24b2-a70e-4f83-ff6e-aec088124646"
   },
   "outputs": [
    {
     "data": {
      "image/png": "[encoded data removed]",
      "text/plain": [
       "<Figure size 648x648 with 1 Axes>"
      ]
     },
     "metadata": {
      "needs_background": "light"
     },
     "output_type": "display_data"
    }
   ],
   "source": [
    "# Plot the density distribution\n",
    "plt.figure(figsize=(9,9))\n",
    "sns.kdeplot(data)\n",
    "plt.xlim((-1, 11));"
   ]
  },
  {
   "cell_type": "markdown",
   "metadata": {
    "id": "fTrcokY6WDq9"
   },
   "source": [
    "\n",
    "\n",
    "Check scipy libraries and use useful functions. "
   ]
  },
  {
   "cell_type": "markdown",
   "metadata": {
    "id": "zksEWTRzYZRW"
   },
   "source": [
    "cdf (cumulative distribution function) gives you the area under the distribution's density curve to the left of a certain value on the x axis. Calculate cdf with x axis from 0 to 2.5. "
   ]
  },
  {
   "cell_type": "code",
   "execution_count": 4,
   "metadata": {},
   "outputs": [
    {
     "data": {
      "text/plain": [
       "0.25"
      ]
     },
     "execution_count": 4,
     "metadata": {},
     "output_type": "execute_result"
    }
   ],
   "source": [
    "stats.uniform.cdf(2.5, loc=0, scale=10) - stats.uniform.cdf(0, loc=0, scale=10)"
   ]
  },
  {
   "cell_type": "markdown",
   "metadata": {
    "id": "YSH29ZK1WDq_"
   },
   "source": [
    "ppf() is the inverse of cdf(): it returns the x axis cutoff value (quantile) associated with a given probability. Caculate the cutoff value for propabality with 40%."
   ]
  },
  {
   "cell_type": "code",
   "execution_count": 5,
   "metadata": {},
   "outputs": [
    {
     "data": {
      "text/plain": [
       "4.0"
      ]
     },
     "execution_count": 5,
     "metadata": {},
     "output_type": "execute_result"
    }
   ],
   "source": [
    "stats.uniform.ppf(0.4, scale=10)"
   ]
  },
  {
   "cell_type": "markdown",
   "metadata": {
    "id": "TCqkfCI5WDrA"
   },
   "source": [
    "Demonstrate for uniform distribution, x values within the range will have the same probability desity.  x values outside the range have a probability density of 0. The output is similar as the following."
   ]
  },
  {
   "cell_type": "code",
   "execution_count": 6,
   "metadata": {},
   "outputs": [
    {
     "name": "stdout",
     "output_type": "stream",
     "text": [
      "Density at x value -1\n",
      "0.0\n",
      "Density at x value 2\n",
      "0.1\n",
      "Density at x value 5\n",
      "0.1\n",
      "Density at x value 8\n",
      "0.1\n",
      "Density at x value 11\n",
      "0.0\n"
     ]
    }
   ],
   "source": [
    "x_values = [-1, 2, 5, 8, 11]\n",
    "for x in x_values:\n",
    "    # Calculate the probability density of each x value\n",
    "    print(\"Density at x value\", x)\n",
    "    print(stats.uniform.pdf(x, loc=0, scale=10))"
   ]
  },
  {
   "cell_type": "markdown",
   "metadata": {
    "id": "eDG_C5DLWDrA"
   },
   "source": [
    "Probability distribution functions in scipy also support median(), mean(), var() and std()."
   ]
  },
  {
   "cell_type": "markdown",
   "metadata": {
    "id": "dzU_xIDZWDrD"
   },
   "source": [
    "## The Normal Distribution"
   ]
  },
  {
   "cell_type": "markdown",
   "metadata": {
    "id": "4tlmrT-6WDrE"
   },
   "source": [
    "\n",
    "Use scipy's norm to have normal distribution (see the graph below) .  The normal distribution has default vaues of  mean of 0 and standard deviation of 1. \n",
    "Investigate what percentage of data generated by a default normal distribution is below -1. What percentage of data generated is above 1 and what percentage lies between -1 and 1. Print the three percentages. The output is similar as the following. "
   ]
  },
  {
   "cell_type": "code",
   "execution_count": 7,
   "metadata": {},
   "outputs": [
    {
     "name": "stdout",
     "output_type": "stream",
     "text": [
      "0.15865525393145707 0.15865525393145707 0.6826894921370859\n"
     ]
    }
   ],
   "source": [
    "# Percentage below -1\n",
    "p1 = stats.norm.cdf(-1)\n",
    "\n",
    "# Percentage above 1\n",
    "p2 = 1 - stats.norm.cdf(1)\n",
    "\n",
    "# Percentage between -1 and 1\n",
    "p3 = stats.norm.cdf(1) - stats.norm.cdf(-1)\n",
    "\n",
    "print(p1, p2, p3)"
   ]
  },
  {
   "cell_type": "markdown",
   "metadata": {
    "id": "wpzcmComWDrE"
   },
   "source": [
    "Plotting is not required. The codes will be included in the solution. The image below shows the bell shape normal distribution.  "
   ]
  },
  {
   "cell_type": "code",
   "execution_count": null,
   "metadata": {
    "colab": {
     "base_uri": "https://localhost:8080/",
     "height": 537
    },
    "executionInfo": {
     "elapsed": 503,
     "status": "ok",
     "timestamp": 1643988579586,
     "user": {
      "displayName": "Xiaoli Huan",
      "photoUrl": "https://lh3.googleusercontent.com/a/default-user=s64",
      "userId": "12700089891795799701"
     },
     "user_tz": 360
    },
    "id": "aAhigYlmWDrE",
    "outputId": "fde3c1f4-4d84-4182-bbaa-d4dc54c469ec"
   },
   "outputs": [
    {
     "data": {
      "image/png": "[encoded data removed]",
      "text/plain": [
       "<Figure size 648x648 with 1 Axes>"
      ]
     },
     "metadata": {
      "needs_background": "light"
     },
     "output_type": "display_data"
    }
   ],
   "source": [
    "\n"
   ]
  },
  {
   "cell_type": "markdown",
   "metadata": {
    "id": "y3_jL-q7WDrF"
   },
   "source": [
    "\n",
    "print the ppf for 2.5% cutoff and 97.5% cutoff. The output is similar as the following"
   ]
  },
  {
   "cell_type": "code",
   "execution_count": 8,
   "metadata": {},
   "outputs": [
    {
     "name": "stdout",
     "output_type": "stream",
     "text": [
      "-1.9599639845400545\n",
      "1.959963984540054\n"
     ]
    }
   ],
   "source": [
    "# ppf for 2.5% cutoff\n",
    "print(stats.norm.ppf(0.025))\n",
    "\n",
    "# ppf for 97.5% cutoff\n",
    "print(stats.norm.ppf(0.975))"
   ]
  },
  {
   "cell_type": "markdown",
   "metadata": {
    "id": "nV_a8hFzWDrF"
   },
   "source": [
    "The quantile output above confirms that roughly 5% of the data lies more than 2 standard deviations from the mean.\n"
   ]
  },
  {
   "cell_type": "markdown",
   "metadata": {
    "id": "jMRGOfRlWDrF"
   },
   "source": [
    "## The Binomial Distribution"
   ]
  },
  {
   "cell_type": "markdown",
   "metadata": {
    "id": "M_3gvuROWDrF"
   },
   "source": [
    "We will use binomial distribution to model coin flips. The scipy name for the binomial is binom. Here we set the number of flips per trial to 10,  the number of trials to 10000, and success probability to 0.5. \n",
    "\n",
    "Create a random binomial distribution data \"fair_coin_flips\" in the code line below."
   ]
  },
  {
   "cell_type": "code",
   "execution_count": 9,
   "metadata": {
    "id": "mkJxZbGIxizh"
   },
   "outputs": [],
   "source": [
    "fair_coin_flips = stats.binom.rvs(10, 0.5, size=10_000)"
   ]
  },
  {
   "cell_type": "code",
   "execution_count": 10,
   "metadata": {
    "colab": {
     "base_uri": "https://localhost:8080/",
     "height": 605
    },
    "executionInfo": {
     "elapsed": 735,
     "status": "ok",
     "timestamp": 1643988580318,
     "user": {
      "displayName": "Xiaoli Huan",
      "photoUrl": "https://lh3.googleusercontent.com/a/default-user=s64",
      "userId": "12700089891795799701"
     },
     "user_tz": 360
    },
    "id": "n9AXH35TWDrF",
    "outputId": "8957f7e2-4c30-4a18-9d09-301da589e2a3"
   },
   "outputs": [
    {
     "name": "stdout",
     "output_type": "stream",
     "text": [
      "col_0   0    1    2     3     4     5     6     7    8   9   10\n",
      "row_0                                                          \n",
      "counts  10  121  418  1155  2083  2521  2038  1130  427  83  14\n"
     ]
    },
    {
     "data": {
      "image/png": "[encoded data removed]",
      "text/plain": [
       "<Figure size 648x648 with 1 Axes>"
      ]
     },
     "metadata": {
      "needs_background": "light"
     },
     "output_type": "display_data"
    }
   ],
   "source": [
    "# Codes are provided here. \n",
    "# Print out the counts for 0 heads, 1 head, ...10 heads of each trial with 10000 trials.\n",
    "print(pd.crosstab(index=\"counts\", columns= fair_coin_flips))\n",
    "# Draw the histogram.\n",
    "pd.DataFrame(fair_coin_flips).hist(range=(-0.5,10.5), bins=11, figsize=(9,9));"
   ]
  },
  {
   "cell_type": "markdown",
   "metadata": {
    "id": "6NOTE2BIWDrG"
   },
   "source": [
    "The histogram above shows us that a binomial distribution with a 50% probability of success is roughly symmetric, with the most likely outcomes lying at the center. \n",
    "Change the success rate to 0.8, implement the codes similar as above to show the distribution won't be symmetric:"
   ]
  },
  {
   "cell_type": "code",
   "execution_count": 11,
   "metadata": {
    "colab": {
     "base_uri": "https://localhost:8080/",
     "height": 605
    },
    "executionInfo": {
     "elapsed": 479,
     "status": "ok",
     "timestamp": 1643988580794,
     "user": {
      "displayName": "Xiaoli Huan",
      "photoUrl": "https://lh3.googleusercontent.com/a/default-user=s64",
      "userId": "12700089891795799701"
     },
     "user_tz": 360
    },
    "id": "ayZSW5zmWDrG",
    "outputId": "9b6e5bc1-2137-478d-f670-c6021be75c1a"
   },
   "outputs": [
    {
     "name": "stdout",
     "output_type": "stream",
     "text": [
      "col_0   2   3   4    5    6     7     8     9     10\n",
      "row_0                                               \n",
      "counts   1   6  47  266  858  2039  3021  2665  1097\n"
     ]
    },
    {
     "data": {
      "image/png": "[encoded data removed]",
      "text/plain": [
       "<Figure size 648x648 with 1 Axes>"
      ]
     },
     "metadata": {
      "needs_background": "light"
     },
     "output_type": "display_data"
    }
   ],
   "source": [
    "fair_coin_flips = stats.binom.rvs(10, 0.8, size=10_000)\n",
    "print(pd.crosstab(index=\"counts\", columns= fair_coin_flips))\n",
    "# Draw the histogram.\n",
    "pd.DataFrame(fair_coin_flips).hist(range=(-0.5,10.5), bins=11, figsize=(9,9));"
   ]
  },
  {
   "cell_type": "markdown",
   "metadata": {
    "id": "ybMhEMhOWDrG"
   },
   "source": [
    "Continue from above binomial distribution(success rate=0.8), give the codes to get the probability of achieving 5 heads or less with 10 flips."
   ]
  },
  {
   "cell_type": "code",
   "execution_count": 12,
   "metadata": {},
   "outputs": [
    {
     "data": {
      "text/plain": [
       "0.03279349759999997"
      ]
     },
     "execution_count": 12,
     "metadata": {},
     "output_type": "execute_result"
    }
   ],
   "source": [
    "stats.binom.cdf(k=5, n=10, p=0.8)"
   ]
  },
  {
   "cell_type": "markdown",
   "metadata": {
    "id": "EdSbcxw62Y9x"
   },
   "source": [
    "Continue from above binomial distribution(success rate=0.8), give the codes to get the probability of achieving 9 heads or more with 10 flips."
   ]
  },
  {
   "cell_type": "code",
   "execution_count": 13,
   "metadata": {},
   "outputs": [
    {
     "data": {
      "text/plain": [
       "0.37580963840000015"
      ]
     },
     "execution_count": 13,
     "metadata": {},
     "output_type": "execute_result"
    }
   ],
   "source": [
    "# Calculate the complement of the probability of achieving 8 heads or less\n",
    "1 - stats.binom.cdf(k=8, n=10, p=0.8)"
   ]
  },
  {
   "cell_type": "markdown",
   "metadata": {
    "id": "muBEhjHyWDrH"
   },
   "source": [
    "For continuous probability density functions, you use pdf() to check the probability density at a given x value. For discrete distributions like the binomial, use stats.distribution.pmf() (probability mass function) to check the mass (proportion of observations) at given number of successes k. \n",
    "Write codes to give the probability density at 5 heads with success rate of 0.5 of 10 flips."
   ]
  },
  {
   "cell_type": "code",
   "execution_count": 14,
   "metadata": {},
   "outputs": [
    {
     "data": {
      "text/plain": [
       "0.24609375000000003"
      ]
     },
     "execution_count": 14,
     "metadata": {},
     "output_type": "execute_result"
    }
   ],
   "source": [
    "stats.binom.pmf(k=5, n=10, p=0.5)"
   ]
  },
  {
   "cell_type": "markdown",
   "metadata": {
    "id": "yygZPFEa8TEG"
   },
   "source": [
    "What about the probability density at 8 heads with success rate of 0.8 of 10 flips?"
   ]
  },
  {
   "cell_type": "code",
   "execution_count": 15,
   "metadata": {},
   "outputs": [
    {
     "data": {
      "text/plain": [
       "0.30198988799999993"
      ]
     },
     "execution_count": 15,
     "metadata": {},
     "output_type": "execute_result"
    }
   ],
   "source": [
    "stats.binom.pmf(k=8, n=10, p=0.8)"
   ]
  },
  {
   "cell_type": "markdown",
   "metadata": {
    "id": "LKqkiSsnWDrJ"
   },
   "source": [
    "## Wrap Up"
   ]
  },
  {
   "cell_type": "markdown",
   "metadata": {
    "id": "HEVLHyABWDrK"
   },
   "source": [
    "Extra information of Exponential Distributions and Poisson Distributions will be given in the solution. \n",
    "\n",
    "\n",
    "Python's scipy library contains functions that make it easy to work with a wide range of probability distributions, including [many that we did not discuss](https://docs.scipy.org/doc/scipy/reference/stats.html) in this lesson. Probability distribution functions are useful for generating random data, modeling random events and aiding with statistical tests and analysis.\n"
   ]
  }
 ],
 "metadata": {
  "colab": {
   "collapsed_sections": [],
   "name": "homework3.ipynb",
   "provenance": []
  },
  "kernelspec": {
   "display_name": "Python 3 (ipykernel)",
   "language": "python",
   "name": "python3"
  },
  "language_info": {
   "codemirror_mode": {
    "name": "ipython",
    "version": 3
   },
   "file_extension": ".py",
   "mimetype": "text/x-python",
   "name": "python",
   "nbconvert_exporter": "python",
   "pygments_lexer": "ipython3",
   "version": "3.9.5"
  }
 },
 "nbformat": 4,
 "nbformat_minor": 4
}
